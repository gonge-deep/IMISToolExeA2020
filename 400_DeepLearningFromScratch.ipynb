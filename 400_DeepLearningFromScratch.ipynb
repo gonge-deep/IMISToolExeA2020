{
  "nbformat": 4,
  "nbformat_minor": 0,
  "metadata": {
    "colab": {
      "name": "400-DeepLearningFromScratch",
      "provenance": [],
      "collapsed_sections": [],
      "authorship_tag": "ABX9TyN2nxTK8Z9dv425xsuOWWs5",
      "include_colab_link": true
    },
    "kernelspec": {
      "name": "python3",
      "display_name": "Python 3"
    },
    "accelerator": "TPU"
  },
  "cells": [
    {
      "cell_type": "markdown",
      "metadata": {
        "id": "view-in-github",
        "colab_type": "text"
      },
      "source": [
        "<a href=\"https://colab.research.google.com/github/kameda-yoshinari/IMISToolExeA2020/blob/master/400_DeepLearningFromScratch.ipynb\" target=\"_parent\"><img src=\"https://colab.research.google.com/assets/colab-badge.svg\" alt=\"Open In Colab\"/></a>"
      ]
    },
    {
      "cell_type": "markdown",
      "metadata": {
        "id": "CvYFa2bSBgrB",
        "colab_type": "text"
      },
      "source": [
        "# 4. Deep Learning from Scratch\n",
        "\n",
        "An example of building up deep learning machine from scratch.  \n",
        "It was prepared for 2019 cource, so it is a bit obsolute, but yet it could be useful especially those who prefer to see Japanese text.\n",
        "\n",
        "* [ゼロから作るDeep Learning](https://www.amazon.co.jp/%E3%82%BC%E3%83%AD%E3%81%8B%E3%82%89%E4%BD%9C%E3%82%8BDeep-Learning-%E2%80%95Python%E3%81%A7%E5%AD%A6%E3%81%B6%E3%83%87%E3%82%A3%E3%83%BC%E3%83%97%E3%83%A9%E3%83%BC%E3%83%8B%E3%83%B3%E3%82%B0%E3%81%AE%E7%90%86%E8%AB%96%E3%81%A8%E5%AE%9F%E8%A3%85-%E6%96%8E%E8%97%A4-%E5%BA%B7%E6%AF%85/dp/4873117585) (Japanese textbook)"
      ]
    },
    {
      "cell_type": "markdown",
      "metadata": {
        "id": "5X-PBWBVKB3f",
        "colab_type": "text"
      },
      "source": [
        "# Files\n",
        "\n",
        "1. Visit Programs on the book / 掲載プログラム一覧\n",
        "2. \"Clone or download\" → Download Zip\n",
        "3. You will obtain deep-learning-from-scratch-master.zip in your local folder.\n",
        "4. Unzip deep-learning-from-scratch-master.zip .\n",
        "5. You will have \"deep-learning-from-scratch-master/\" folder.\n",
        "6. Open your google drive page on your browser with your google account.\n",
        "7. Make \"My Drive / 202006_Tool-A / Work400\" folder.\n",
        "8. Drop the \"deep-learning-from-scratch-master/\" folder to the \"Work400\" follder on the google drive.\n",
        "\n",
        "Then: \n"
      ]
    },
    {
      "cell_type": "code",
      "metadata": {
        "id": "TG8Cu0UxXcQ0",
        "colab_type": "code",
        "colab": {}
      },
      "source": [
        "!echo \"Start mounting your Google Drive.\"\n",
        "from google.colab import drive \n",
        "drive.mount('/content/drive')\n",
        "!echo \"Make a working folder and move to there.\"\n",
        "%cd /content/drive/My\\ Drive/\n",
        "%cd 202006_Tool-A/Work400/deep-learning-from-scratch-master\n",
        "!ls -l"
      ],
      "execution_count": null,
      "outputs": []
    },
    {
      "cell_type": "markdown",
      "metadata": {
        "id": "-WTkCZxAXzro",
        "colab_type": "text"
      },
      "source": [
        "Timezone JST."
      ]
    },
    {
      "cell_type": "code",
      "metadata": {
        "id": "dSHwW7ulXvd9",
        "colab_type": "code",
        "colab": {}
      },
      "source": [
        "!echo \"Change to the JST notation.\"\n",
        "!rm /etc/localtime\n",
        "!ln -s /usr/share/zoneinfo/Japan /etc/localtime"
      ],
      "execution_count": null,
      "outputs": []
    },
    {
      "cell_type": "markdown",
      "metadata": {
        "id": "kTAifKa3Y6h4",
        "colab_type": "text"
      },
      "source": [
        "# ゼロから作る Deep Learning\n",
        "\n",
        "\n",
        "[<img src=\"https://raw.githubusercontent.com/oreilly-japan/deep-learning-from-scratch/images/deep-learning-from-scratch.png\" width=\"200px\">](https://www.oreilly.co.jp/books/9784873117584/)\n",
        "\n",
        "書籍『[ゼロから作る Deep Learning](http://www.oreilly.co.jp/books/9784873117584/)』(オライリー・ジャパン発行)のサポートサイトです。本書籍で使用するソースコードがまとめられています。\n",
        "\n",
        "\n",
        "\n",
        "## ファイル構成\n",
        "\n",
        "|フォルダ名 |説明                         |\n",
        "|:--        |:--                          |\n",
        "|ch01       |1章で使用するソースコード    |\n",
        "|ch02       |2章で使用するソースコード    |\n",
        "|ch03       |3章で使用するソースコード    |\n",
        "|ch04       |4章で使用するソースコード    |\n",
        "|ch05       |5章で使用するソースコード    |\n",
        "|ch06       |6章で使用するソースコード    |\n",
        "|ch07       |7章で使用するソースコード    |\n",
        "|ch08       |8章で使用するソースコード    |\n",
        "|common     |共通で使用するソースコード   |\n",
        "|dataset    |データセット用のソースコード |\n",
        "\n",
        "\n",
        "ソースコードの解説は本書籍をご覧ください。\n",
        "\n",
        "## Pythonと外部ライブラリ\n",
        "ソースコードを実行するには、下記のソフトウェアが必要です。\n",
        "\n",
        "* Python 3.x\n",
        "* NumPy\n",
        "* Matplotlib\n",
        "\n",
        "※Pythonのバージョンは、3系を利用します。\n",
        "\n",
        "\n",
        "## ライセンス\n",
        "\n",
        "本リポジトリのソースコードは[MITライセンス](http://www.opensource.org/licenses/MIT)です。\n",
        "商用・非商用問わず、自由にご利用ください。\n",
        "\n",
        "## 正誤表\n",
        "\n",
        "本書の正誤情報は以下のページで公開しています。\n",
        "\n",
        "https://github.com/oreilly-japan/deep-learning-from-scratch/wiki/errata\n",
        "\n",
        "本ページに掲載されていない誤植など間違いを見つけた方は、[japan＠oreilly.co.jp](<mailto:japan＠oreilly.co.jp>)までお知らせください。\n",
        "#"
      ]
    },
    {
      "cell_type": "markdown",
      "metadata": {
        "id": "AQo5gKFXahsy",
        "colab_type": "text"
      },
      "source": [
        "# How to run python codes\n",
        "\n",
        "The one is to use the code cell as if it is a terminal window."
      ]
    },
    {
      "cell_type": "code",
      "metadata": {
        "id": "h7Ekm2iTZu5H",
        "colab_type": "code",
        "colab": {}
      },
      "source": [
        "%cd /content/drive/My\\ Drive/202006_Tool-A/Work400/deep-learning-from-scratch-master/ch01\n",
        "!python man.py"
      ],
      "execution_count": null,
      "outputs": []
    },
    {
      "cell_type": "markdown",
      "metadata": {
        "id": "VkR90a5Raz-I",
        "colab_type": "text"
      },
      "source": [
        "The other is to see the the code by cat command and copy/paste the code body to the next codecell.\n"
      ]
    },
    {
      "cell_type": "code",
      "metadata": {
        "id": "8MEUnu8-a7ut",
        "colab_type": "code",
        "colab": {}
      },
      "source": [
        "%cd /content/drive/My\\ Drive/202006_Tool-A/Work400/deep-learning-from-scratch-master/ch01\n",
        "!cat man.py"
      ],
      "execution_count": null,
      "outputs": []
    },
    {
      "cell_type": "markdown",
      "metadata": {
        "id": "MJ-g3LxVbV-_",
        "colab_type": "text"
      },
      "source": [
        "Remember to put the 1st line as the code may access of the current folder."
      ]
    },
    {
      "cell_type": "code",
      "metadata": {
        "id": "X8GeiDXIbAXI",
        "colab_type": "code",
        "colab": {}
      },
      "source": [
        "%cd /content/drive/My\\ Drive/202006_Tool-A/Work400/deep-learning-from-scratch-master/ch01\n",
        "# coding: utf-8\n",
        "class Man:\n",
        "    \"\"\"サンプルクラス\"\"\"\n",
        "\n",
        "    def __init__(self, name):\n",
        "        self.name = name\n",
        "        print(\"Initilized!\")\n",
        "\n",
        "    def hello(self):\n",
        "        print(\"Hello \" + self.name + \"!\")\n",
        "\n",
        "    def goodbye(self):\n",
        "        print(\"Good-bye \" + self.name + \"!\")\n",
        "\n",
        "m = Man(\"David\")\n",
        "m.hello()\n",
        "m.goodbye()"
      ],
      "execution_count": null,
      "outputs": []
    },
    {
      "cell_type": "markdown",
      "metadata": {
        "id": "Mmae-_D2NOFC",
        "colab_type": "text"
      },
      "source": [
        "# Tips\n",
        "\n",
        "On changing the folders **inside the pyhton**, set the code like: "
      ]
    },
    {
      "cell_type": "code",
      "metadata": {
        "id": "Yk1qKwZUYN_r",
        "colab_type": "code",
        "colab": {}
      },
      "source": [
        "import os\n",
        "os.chdir(\"/content/drive/My Drive/202006_Too-A/Work400/deep-learning-from-scratch-master\")\n",
        "os.listdir(\".\")\n",
        "os.chdir(\"ch01\")"
      ],
      "execution_count": null,
      "outputs": []
    },
    {
      "cell_type": "markdown",
      "metadata": {
        "id": "9ijPyK5WSgVA",
        "colab_type": "text"
      },
      "source": [
        "---\n",
        "Tools for intelligent interaction systems a  \n",
        "Master's and Docotal programs in intelligent and mechanical interaction systems, University of Tsukuba, Japan.  \n",
        "KAMEDA Yoshinari, SHIBUYA Takeshi  \n",
        "2020/06.29.\n",
        "\n",
        "知能システムツール演習a  \n",
        "知能機能システム学位プログラム (筑波大学大学院)  \n",
        "担当：亀田能成，澁谷長史  \n",
        "2020/06/29.\n",
        "\n"
      ]
    }
  ]
}