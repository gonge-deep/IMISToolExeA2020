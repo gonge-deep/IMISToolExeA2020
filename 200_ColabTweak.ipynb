{
  "nbformat": 4,
  "nbformat_minor": 0,
  "metadata": {
    "colab": {
      "name": "200-ColabTweak",
      "provenance": [],
      "collapsed_sections": [],
      "authorship_tag": "ABX9TyOq+TvorLW6zJ3ogYTGeltD",
      "include_colab_link": true
    },
    "kernelspec": {
      "name": "python3",
      "display_name": "Python 3"
    }
  },
  "cells": [
    {
      "cell_type": "markdown",
      "metadata": {
        "id": "view-in-github",
        "colab_type": "text"
      },
      "source": [
        "<a href=\"https://colab.research.google.com/github/kameda-yoshinari/IMISToolExeA2020/blob/master/200_ColabTweak.ipynb\" target=\"_parent\"><img src=\"https://colab.research.google.com/assets/colab-badge.svg\" alt=\"Open In Colab\"/></a>"
      ]
    },
    {
      "cell_type": "markdown",
      "metadata": {
        "id": "CvYFa2bSBgrB",
        "colab_type": "text"
      },
      "source": [
        "# 2. Google Colaboratory Tweaks\n",
        "\n",
        "Some issues that students of this course should know.\n"
      ]
    },
    {
      "cell_type": "markdown",
      "metadata": {
        "id": "5X-PBWBVKB3f",
        "colab_type": "text"
      },
      "source": [
        "# Domain of the students \n",
        "\n",
        "The students in U-Tsukuba should have G SUITE for Education account.\n",
        "Since it is under G SUITE for Education, you have unlimited Drive size.\n",
        "\n",
        "> Example: tsukuba.taro.jx@alumni.tsukuba.ac.jp\n",
        "\n",
        "How to apply: \n",
        "https://alumni.tsukuba.ac.jp/site/user.html (Japanese only)\n",
        "\n",
        "\n"
      ]
    },
    {
      "cell_type": "markdown",
      "metadata": {
        "id": "cseCanA05WMq",
        "colab_type": "text"
      },
      "source": [
        "# Mounting Google Drive\n",
        "\n",
        "1. Connect the instance at a colab notebook.\n",
        "2. Mount your \"My drive\" in google drive service by the following procedure.\n",
        "3. Make a working folder and move to the folder.\n",
        "\n",
        "Even after you shutdown the instance, you can see the files you made."
      ]
    },
    {
      "cell_type": "code",
      "metadata": {
        "id": "BDCKum3_6eaO",
        "colab_type": "code",
        "colab": {
          "base_uri": "https://localhost:8080/",
          "height": 141
        },
        "outputId": "c7951232-3c85-43c7-b567-2ad23d66b21b"
      },
      "source": [
        "!echo \"Start mounting your Google Drive.\"\n",
        "from google.colab import drive \n",
        "drive.mount('/content/drive')"
      ],
      "execution_count": 1,
      "outputs": [
        {
          "output_type": "stream",
          "text": [
            "Start mounting your Google Drive.\n",
            "Go to this URL in a browser: https://accounts.google.com/o/oauth2/auth?client_id=947318989803-6bn6qk8qdgf4n4g3pfee6491hc0brc4i.apps.googleusercontent.com&redirect_uri=urn%3aietf%3awg%3aoauth%3a2.0%3aoob&response_type=code&scope=email%20https%3a%2f%2fwww.googleapis.com%2fauth%2fdocs.test%20https%3a%2f%2fwww.googleapis.com%2fauth%2fdrive%20https%3a%2f%2fwww.googleapis.com%2fauth%2fdrive.photos.readonly%20https%3a%2f%2fwww.googleapis.com%2fauth%2fpeopleapi.readonly\n",
            "\n",
            "Enter your authorization code:\n",
            "··········\n",
            "Mounted at /content/drive\n"
          ],
          "name": "stdout"
        }
      ]
    },
    {
      "cell_type": "code",
      "metadata": {
        "id": "OzKDDehf7RxV",
        "colab_type": "code",
        "colab": {
          "base_uri": "https://localhost:8080/",
          "height": 69
        },
        "outputId": "9ed0f56d-f243-4a58-82d3-842641bac807"
      },
      "source": [
        "!echo \"Make a working folder and move to there.\"\n",
        "%cd /content/drive/My\\ Drive/\n",
        "%mkdir -p 202006_Tool-A/Work200\n",
        "%cd       202006_Tool-A/Work200\n",
        "!ls"
      ],
      "execution_count": 2,
      "outputs": [
        {
          "output_type": "stream",
          "text": [
            "Make a working folder and move to there.\n",
            "/content/drive/My Drive\n",
            "/content/drive/My Drive/202006_Tool-A/Work200\n"
          ],
          "name": "stdout"
        }
      ]
    },
    {
      "cell_type": "markdown",
      "metadata": {
        "id": "3AIitsgj7Zu9",
        "colab_type": "text"
      },
      "source": [
        "# Local time (Japan Standard Time)\n",
        "\n",
        "Instances follows UTC notation by default.  \n",
        "Sometimes we prefer to see the time in JST (JST-9).\n",
        "As you are the root, you can directly change the OS setup.\n"
      ]
    },
    {
      "cell_type": "code",
      "metadata": {
        "id": "vtPqS4d77421",
        "colab_type": "code",
        "colab": {}
      },
      "source": [
        "!echo \"Change to the JST notation.\"\n",
        "!rm /etc/localtime\n",
        "!ln -s /usr/share/zoneinfo/Japan /etc/localtime\n",
        "!date"
      ],
      "execution_count": null,
      "outputs": []
    },
    {
      "cell_type": "markdown",
      "metadata": {
        "id": "p6vDKbo-KaIT",
        "colab_type": "text"
      },
      "source": [
        "# Report submission\n",
        "\n",
        "The report template will be given in ipynb file.\n",
        "You should save it to your local google colaboratory folder and then edit it to fit your report.\n",
        "\n",
        "The report submission should be made at this cource (0ALE005) at https://manaba.tsukuba.ac.jp .\n",
        "Note that 0ALE005 is coupled with 0ALE002 and 0AL5706 on manaba system.\n",
        "\n",
        "\n",
        "**File (main)**\n",
        "\n",
        "Download the ipynb to your local machine and then submit the file to the manaba.\n",
        "\n",
        "**URL (backup)**\n",
        "\n",
        "Make a shared link which is open only to the alumni.tsukuba.ac.jp domain.\n",
        "\n"
      ]
    },
    {
      "cell_type": "markdown",
      "metadata": {
        "id": "ESwkrK2D06qb",
        "colab_type": "text"
      },
      "source": [
        "---\n",
        "Tools for intelligent interaction systems a  \n",
        "Master's and Docotal programs in intelligent and mechanical interaction systems, University of Tsukuba, Japan.  \n",
        "KAMEDA Yoshinari, SHIBUYA Takeshi  \n",
        "2020/06.29.\n",
        "\n",
        "知能システムツール演習a  \n",
        "知能機能システム学位プログラム (筑波大学大学院)  \n",
        "担当：亀田能成，澁谷長史  \n",
        "2020/06/29.\n",
        "\n"
      ]
    }
  ]
}