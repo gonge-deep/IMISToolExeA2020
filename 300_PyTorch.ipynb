{
  "nbformat": 4,
  "nbformat_minor": 0,
  "metadata": {
    "colab": {
      "name": "300-PyTorch",
      "provenance": [],
      "collapsed_sections": [],
      "authorship_tag": "ABX9TyPEUFhjeKuDLlvtiMmdtwx0",
      "include_colab_link": true
    },
    "kernelspec": {
      "name": "python3",
      "display_name": "Python 3"
    },
    "accelerator": "TPU"
  },
  "cells": [
    {
      "cell_type": "markdown",
      "metadata": {
        "id": "view-in-github",
        "colab_type": "text"
      },
      "source": [
        "<a href=\"https://colab.research.google.com/github/kameda-yoshinari/IMISToolExeA2020/blob/master/300_PyTorch.ipynb\" target=\"_parent\"><img src=\"https://colab.research.google.com/assets/colab-badge.svg\" alt=\"Open In Colab\"/></a>"
      ]
    },
    {
      "cell_type": "markdown",
      "metadata": {
        "id": "CvYFa2bSBgrB",
        "colab_type": "text"
      },
      "source": [
        "# 3. Pytorch on Google Colaboratory"
      ]
    },
    {
      "cell_type": "markdown",
      "metadata": {
        "id": "5X-PBWBVKB3f",
        "colab_type": "text"
      },
      "source": [
        "It's very wierd. Because colab notebook is supported by Google and PyTorch is supported by Facebook. But sometimes it happens in this literature...\n",
        "\n",
        "Well written tutorials are now available (they made big effort to welcome newbies to their commmunity), so I just show the links to the tutorials.\n",
        "\n",
        "At the same time, I also show some info that how rapidly things are changing in this literature. One year is too long, even a month might be touch. In the library below, some are released in this month...\n",
        "\n",
        "Currently, TPUs on colab notebook is not natively supported by pytorch (thgough pytorch is designed to use \"tensor flow\" calculation -_-; But I guess it should come soon as preinstalled. (You can install pytorch/xla compiler manually.) "
      ]
    },
    {
      "cell_type": "markdown",
      "metadata": {
        "id": "Mmae-_D2NOFC",
        "colab_type": "text"
      },
      "source": [
        "# python\n",
        "\n",
        "> python2 support has been terminated on 2020/01/01.  \n",
        "So you are strongly encouraged to use python3.\n",
        "\n",
        "Currently [3.8.3 (2020/05/13)](https://docs.python.org/3/whatsnew/changelog.html#python-3-8-3-final)  \n",
        "\n",
        "Site https://www.python.org/  \n",
        "\n",
        "tutorial  \n",
        "https://docs.python.org/3/tutorial/"
      ]
    },
    {
      "cell_type": "markdown",
      "metadata": {
        "id": "t2AYcJ2ueVlf",
        "colab_type": "text"
      },
      "source": [
        "# numpy\n",
        "\n",
        "> Numpy is a matlab-like extension of python.\n",
        "Matrix operations (on \"ndarray\") could be executed very efficiently. (If you want to accelate the computation, you need GPU-powered numpy compatible extention such as [CUpy](https://github.com/cupy/cupy).)\n",
        "\n",
        "Currently v1.18.0 (2019/12/22)   \n",
        "Site https://numpy.org/  \n",
        "\n",
        "Quickstart tutorial  \n",
        "https://numpy.org/devdocs/user/quickstart.html"
      ]
    },
    {
      "cell_type": "markdown",
      "metadata": {
        "id": "D2BoQXvyoXqo",
        "colab_type": "text"
      },
      "source": [
        "# pandas\n",
        "\n",
        "> Pandas (Python Data Analysis Library) is used to cleaning the datasets. If you can do that with only numpy, it is OK, but when you comes to unite many datasets with a bit complicated conditions, this will help.\n",
        "\n",
        "Currently [1.0.5 (2020/06/17)](https://pandas.pydata.org/docs/whatsnew/v1.0.5.html)\n",
        "\n",
        "Site https://pandas.pydata.org/  \n",
        "\n",
        "\n",
        "Documentation  \n",
        "https://pandas.pydata.org/pandas-docs/stable/index.html\n",
        "\n",
        "Tutorial  \n",
        "https://pandas.pydata.org/pandas-docs/stable/getting_started/10min.html"
      ]
    },
    {
      "cell_type": "markdown",
      "metadata": {
        "id": "ewjdPljmjU1U",
        "colab_type": "text"
      },
      "source": [
        "#Pytorch main\n",
        "\n",
        "> Pytorch is the newly coming ([2016-](https://github.com/pytorch/pytorch/releases/tag/v0.1.1)) open source library to provide machine learning techniques by way of deep newral network and it can get benefits from GPU. Since it comes lastly, it covers advantages that other libraries have. Supported by Facebook (at this moment).\n",
        "\n",
        "> As of 2020/06, pytorch is preinstalled to the colab instances (so far as I remember, it was not in 2019.)\n",
        "\n",
        "Currently [Ver 1.5.1 (2020/06/18)](https://github.com/pytorch/pytorch/releases)\n",
        "\n",
        "Site https://pytorch.org/\n",
        "\n",
        "Github https://github.com/pytorch/pytorch\n",
        "\n",
        "\n"
      ]
    },
    {
      "cell_type": "markdown",
      "metadata": {
        "id": "94stPgEXdAAl",
        "colab_type": "text"
      },
      "source": [
        "# Pytorch tutorial\n",
        "\n",
        "> There are many tutorials, but since the official tutorial supports colab notebook natively (and google translator is now very smart in 2019/11, thank you [BERT!](https://ai.googleblog.com/2018/11/open-sourcing-bert-state-of-art-pre.html)), I strongly recommend you to see the official tutorial first.\n",
        "\n",
        "\n",
        "https://pytorch.org/tutorials/\n",
        "\n",
        "Pytorch tutorals are colab-ready.  \n",
        "The first two are asked to learn.\n",
        "\n",
        "1. Deep Learning with PyTorch: A 60 Minute Blitz\n",
        "2. Learning PyTorch with Examples\n",
        "\n",
        "You should pick up as many as possible as for you have time (for assigned class time, say 2.5 hours in total).\n",
        "\n",
        "\n",
        "The list is as of 2020/06/28:  \n",
        "\n"
      ]
    },
    {
      "cell_type": "markdown",
      "metadata": {
        "id": "UbfIu0ft1ZuP",
        "colab_type": "text"
      },
      "source": [
        "<p class=\"caption\"><span class=\"caption-text\">Learning PyTorch</span></p>\n",
        "<ul>\n",
        "<li><a href=\"https://pytorch.org/tutorials/beginner/deep_learning_60min_blitz.html\">Deep Learning with PyTorch: A 60 Minute Blitz</a></li>\n",
        "<li><a href=\"https://pytorch.org/tutorials/beginner/pytorch_with_examples.html\">Learning PyTorch with Examples</a></li>\n",
        "<li><a href=\"https://pytorch.org/tutorials/beginner/nn_tutorial.html\">What is <cite>torch.nn</cite> <em>really</em>?</a></li>\n",
        "<li><a href=\"https://pytorch.org/tutorials/intermediate/tensorboard_tutorial.html\">Visualizing Models, Data, and Training with TensorBoard</a></li>\n",
        "</ul>\n",
        "<p class=\"caption\"><span class=\"caption-text\">Image/Video</span></p>\n",
        "<ul>\n",
        "<li><a href=\"https://pytorch.org/tutorials/intermediate/torchvision_tutorial.html\">TorchVision Object Detection Finetuning Tutorial</a></li>\n",
        "<li><a href=\"https://pytorch.org/tutorials/beginner/transfer_learning_tutorial.html\">Transfer Learning for Computer Vision Tutorial</a></li>\n",
        "<li><a href=\"https://pytorch.org/tutorials/beginner/fgsm_tutorial.html\">Adversarial Example Generation</a></li>\n",
        "<li><a href=\"https://pytorch.org/tutorials/beginner/dcgan_faces_tutorial.html\">DCGAN Tutorial</a></li>\n",
        "</ul>\n",
        "<p class=\"caption\"><span class=\"caption-text\">Audio</span></p>\n",
        "<ul>\n",
        "<li><a href=\"https://pytorch.org/tutorials/beginner/audio_preprocessing_tutorial.html\">torchaudio Tutorial</a></li>\n",
        "</ul>\n",
        "<p class=\"caption\"><span class=\"caption-text\">Text</span></p>\n",
        "<ul>\n",
        "<li><a href=\"https://pytorch.org/tutorials/beginner/transformer_tutorial.html\">Sequence-to-Sequence Modeling with nn.Transformer and TorchText</a></li>\n",
        "<li><a href=\"https://pytorch.org/tutorials/intermediate/char_rnn_classification_tutorial.html\">NLP From Scratch: Classifying Names with a Character-Level RNN</a></li>\n",
        "<li><a href=\"https://pytorch.org/tutorials/intermediate/char_rnn_generation_tutorial.html\">NLP From Scratch: Generating Names with a Character-Level RNN</a></li>\n",
        "<li><a href=\"https://pytorch.org/tutorials/intermediate/seq2seq_translation_tutorial.html\">NLP From Scratch: Translation with a Sequence to Sequence Network and Attention</a></li>\n",
        "<li><a href=\"https://pytorch.org/tutorials/beginner/text_sentiment_ngrams_tutorial.html\">Text Classification with TorchText</a></li>\n",
        "<li><a href=\"https://pytorch.org/tutorials/beginner/torchtext_translation_tutorial.html\">Language Translation with TorchText</a></li>\n",
        "</ul>\n",
        "<p class=\"caption\"><span class=\"caption-text\">Reinforcement Learning</span></p>\n",
        "<ul>\n",
        "<li><a href=\"https://pytorch.org/tutorials/intermediate/reinforcement_q_learning.html\">Reinforcement Learning (DQN) Tutorial</a></li>\n",
        "</ul>\n",
        "<p class=\"caption\"><span class=\"caption-text\">Deploying PyTorch Models in Production</span></p>\n",
        "<ul>\n",
        "<li><a href=\"https://pytorch.org/tutorials/intermediate/flask_rest_api_tutorial.html\">Deploying PyTorch in Python via a REST API with Flask</a></li>\n",
        "<li><a href=\"https://pytorch.org/tutorials/beginner/Intro_to_TorchScript_tutorial.html\">Introduction to TorchScript</a></li>\n",
        "<li><a href=\"https://pytorch.org/tutorials/advanced/cpp_export.html\">Loading a TorchScript Model in C++</a></li>\n",
        "<li><a href=\"https://pytorch.org/tutorials/advanced/super_resolution_with_onnxruntime.html\">(optional) Exporting a Model from PyTorch to ONNX and Running it using ONNX Runtime</a></li>\n",
        "</ul>\n",
        "<p class=\"caption\"><span class=\"caption-text\">Frontend APIs</span></p>\n",
        "<ul>\n",
        "<li><a href=\"https://pytorch.org/tutorials/intermediate/named_tensor_tutorial.html\">(experimental) Introduction to Named Tensors in PyTorch</a></li>\n",
        "<li><a href=\"https://pytorch.org/tutorials/intermediate/memory_format_tutorial.html\">(experimental) Channels Last Memory Format in PyTorch</a></li>\n",
        "<li><a href=\"https://pytorch.org/tutorials/advanced/cpp_frontend.html\">Using the PyTorch C++ Frontend</a></li>\n",
        "<li><a href=\"https://pytorch.org/tutorials/advanced/cpp_extension.html\">Custom C++ and CUDA Extensions</a></li>\n",
        "<li><a href=\"https://pytorch.org/tutorials/advanced/torch_script_custom_ops.html\">Extending TorchScript with Custom C++ Operators</a></li>\n",
        "<li><a href=\"https://pytorch.org/tutorials/advanced/torch_script_custom_classes.html\">Extending TorchScript with Custom C++ Classes</a></li>\n",
        "<li><a href=\"https://pytorch.org/tutorials/advanced/cpp_autograd.html\">Autograd in C++ Frontend</a></li>\n",
        "</ul>\n",
        "<p class=\"caption\"><span class=\"caption-text\">Model Optimization</span></p>\n",
        "<ul>\n",
        "<li><a href=\"https://pytorch.org/tutorials/intermediate/pruning_tutorial.html\">Pruning Tutorial</a></li>\n",
        "<li><a href=\"https://pytorch.org/tutorials/advanced/dynamic_quantization_tutorial.html\">(experimental) Dynamic Quantization on an LSTM Word Language Model</a></li>\n",
        "<li><a href=\"https://pytorch.org/tutorials/intermediate/dynamic_quantization_bert_tutorial.html\">(experimental) Dynamic Quantization on BERT</a></li>\n",
        "<li><a href=\"https://pytorch.org/tutorials/advanced/static_quantization_tutorial.html\">(experimental) Static Quantization with Eager Mode in PyTorch</a></li>\n",
        "<li><a href=\"https://pytorch.org/tutorials/intermediate/quantized_transfer_learning_tutorial.html\">(experimental) Quantized Transfer Learning for Computer Vision Tutorial</a></li>\n",
        "</ul>\n",
        "<p class=\"caption\"><span class=\"caption-text\">Parallel and Distributed Training</span></p>\n",
        "<ul>\n",
        "<li><a href=\"https://pytorch.org/tutorials/intermediate/model_parallel_tutorial.html\">Single-Machine Model Parallel Best Practices</a></li>\n",
        "<li><a href=\"https://pytorch.org/tutorials/intermediate/ddp_tutorial.html\">Getting Started with Distributed Data Parallel</a></li>\n",
        "<li><a href=\"https://pytorch.org/tutorials/intermediate/dist_tuto.html\">Writing Distributed Applications with PyTorch</a></li>\n",
        "<li><a href=\"https://pytorch.org/tutorials/intermediate/rpc_tutorial.html\">Getting Started with Distributed RPC Framework</a></li>\n",
        "<li><a href=\"https://pytorch.org/tutorials/beginner/aws_distributed_training_tutorial.html\">(advanced) PyTorch 1.0 Distributed Trainer with Amazon AWS</a></li>\n",
        "<li><a href=\"https://pytorch.org/tutorials/intermediate/rpc_param_server_tutorial.html\">Implementing a Parameter Server Using Distributed RPC Framework</a></li>\n",
        "</ul>"
      ]
    },
    {
      "cell_type": "markdown",
      "metadata": {
        "id": "JsVtv1-3iuDX",
        "colab_type": "text"
      },
      "source": [
        "# Pytorch recipes\n",
        "\n",
        "> \"Recipes are bite-sized bite-sized, actionable examples of how to use specific PyTorch features, different from our full-length tutorials.\"\n",
        "\n",
        "https://pytorch.org/tutorials/recipes/recipes_index.html\n",
        "\n",
        "Below is the list of recipes as of 2020/06/28."
      ]
    },
    {
      "cell_type": "markdown",
      "metadata": {
        "id": "xmdenWC99mVG",
        "colab_type": "text"
      },
      "source": [
        "## Basics\n",
        "\n",
        "* [Loading data in PyTorch](https://pytorch.org/tutorials/recipes/recipes/loading_data_recipe.html)  \n",
        "Learn how to use PyTorch packages to prepare and load common datasets for your model.  \n",
        "\n",
        "* [Defining a Neural Network](https://pytorch.org/tutorials/recipes/recipes/defining_a_neural_network.html)  \n",
        "Learn how to use PyTorch's torch.nn package to create and define a neural network the MNIST dataset.  \n",
        "\n",
        "* [What is a state_dict in PyTorch](https://pytorch.org/tutorials/recipes/recipes/what_is_state_dict.html)  \n",
        "Learn how state_dict objects, Python dictionaries, are used in saving or loading models from PyTorch.  \n",
        "\n",
        "* [Saving and loading models for inference in PyTorch](https://pytorch.org/tutorials/recipes/recipes/saving_and_loading_models_for_inference.html)  \n",
        "Learn about the two approaches for saving and loading models for inference in PyTorch - via the state_dict and via the entire model.  \n",
        "\n",
        "* [Saving and loading a general checkpoint in PyTorch](https://pytorch.org/tutorials/recipes/recipes/saving_and_loading_a_general_checkpoint.html)  \n",
        "Saving and loading a general checkpoint model for inference or resuming training can be helpful for picking up where you last left off. In this recipe, explore how to save and load multiple checkpoints.  \n",
        "\n",
        "* [Saving and loading multiple models in one file using PyTorch](https://pytorch.org/tutorials/recipes/recipes/saving_multiple_models_in_one_file.html)  \n",
        "In this recipe, learn how saving and loading multiple models can be helpful for reusing models that you have previously trained.  \n",
        "\n",
        "* [Warmstarting model using parameters from a different model in PyTorch](https://pytorch.org/tutorials/recipes/recipes/warmstarting_model_using_parameters_from_a_different_model.html)  \n",
        "Learn how warmstarting the training process by partially loading a model or loading a partial model can help your model converge much faster than training from scratch.  \n",
        "\n",
        "* [Saving and loading models across devices in PyTorch](https://pytorch.org/tutorials/recipes/recipes/save_load_across_devices.html)  \n",
        "Learn how saving and loading models across devices (CPUs and GPUs) is relatively straightforward using PyTorch.  \n",
        "\n",
        "* [Zeroing out gradients in PyTorch](https://pytorch.org/tutorials/recipes/recipes/zeroing_out_gradients.html)  \n",
        "Learn when you should zero out graidents and how doing so can help increase the accuracy of your model.  \n",
        "\n",
        "## Customization\n",
        "\n",
        "* [Custom Datasets, Transforms & Dataloaders](https://pytorch.org/tutorials/recipes/recipes/custom_dataset_transforms_loader.html)  \n",
        "Learn how to leverage the PyTorch dataset API to easily create a custom dataset and custom dataloader.  \n",
        "\n",
        "## Interpretability\n",
        "\n",
        "* [Model Interpretability using Captum](https://pytorch.org/tutorials/recipes/recipes/Captum_Recipe.html)  \n",
        "Learn how to use Captum attribute the predictions of an image classifier to their corresponding image features and visualize the attribution results.  \n",
        "\n",
        "* [How to use TensorBoard with PyTorch](https://pytorch.org/tutorials/recipes/recipes/tensorboard_with_pytorch.html)  \n",
        "Learn basic usage of TensorBoard with PyTorch, and how to visualize data in TensorBoard UI  \n",
        "\n",
        "## Quantization\n",
        "\n",
        "* [Dynamic Quantization](https://pytorch.org/tutorials/recipes/recipes/dynamic_quantization.html)  \n",
        " Apply dynamic quantization to a simple LSTM model.  \n",
        "\n",
        "## Production Development\n",
        "\n",
        "* [TorchScript for Deployment](https://pytorch.org/tutorials/recipes/torchscript_inference.html)  \n",
        "Learn how to export your trained model in TorchScript format and how to load your TorchScript model in C++ and do inference.  \n",
        "\n",
        "* [Deploying with Flask](https://pytorch.org/tutorials/recipes/deployment_with_flask.html)  \n",
        "Learn how to use Flask, a lightweight web server, to quickly setup a web API from your trained PyTorch model.  \n"
      ]
    },
    {
      "cell_type": "markdown",
      "metadata": {
        "id": "MXXzwS--m7e2",
        "colab_type": "text"
      },
      "source": [
        "# Other Pytorch resources (日本語)\n",
        "\n",
        "* https://www.codexa.net/pytorch-python/  \n",
        "PyTorch 入門！人気急上昇中のPyTorchで知っておくべき6つの基礎知識  \n",
        "CODEXA (2018.12)  \n",
        "※pytorchがメジャーになりだした頃の資料  \n",
        "※他のもある(numpy入門など)し無料だけど要登録\n",
        "\n",
        "* https://www.atmarkit.co.jp/ait/articles/2003/17/news019.html  \n",
        "Colab Pro登場と、Google ColabユーザーのためのTipsトップ10  \n",
        "(2020/03)\n",
        "\n"
      ]
    },
    {
      "cell_type": "markdown",
      "metadata": {
        "id": "9ijPyK5WSgVA",
        "colab_type": "text"
      },
      "source": [
        "---\n",
        "Tools for intelligent interaction systems a  \n",
        "Master's and Docotal programs in intelligent and mechanical interaction systems, University of Tsukuba, Japan.  \n",
        "KAMEDA Yoshinari, SHIBUYA Takeshi  \n",
        "2020/06.29.\n",
        "\n",
        "知能システムツール演習a  \n",
        "知能機能システム学位プログラム (筑波大学大学院)  \n",
        "担当：亀田能成，澁谷長史  \n",
        "2020/06/29.\n",
        "\n"
      ]
    }
  ]
}